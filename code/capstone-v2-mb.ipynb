{
 "cells": [
  {
   "cell_type": "code",
   "execution_count": 2,
   "metadata": {
    "collapsed": true
   },
   "outputs": [],
   "source": [
    "# Code modified and fixed from Stock Technical Analysis with Python\n",
    "%matplotlib inline\n",
    "import pandas as pd\n",
    "import matplotlib.pyplot as plt\n",
    "import talib as ta\n",
    "import numpy as np"
   ]
  },
  {
   "cell_type": "code",
   "execution_count": 69,
   "metadata": {},
   "outputs": [],
   "source": [
    "df = pd.read_csv(\"./btchourly.csv\")\n",
    "df.index = pd.to_datetime(df.utc)\n",
    "del df['utc']"
   ]
  },
  {
   "cell_type": "code",
   "execution_count": 70,
   "metadata": {},
   "outputs": [
    {
     "data": {
      "text/plain": [
       "DatetimeIndex(['2017-11-20 00:00:00', '2017-11-20 01:00:00', '2017-11-20 02:00:00', '2017-11-20 03:00:00', '2017-11-20 04:00:00', '2017-11-20 05:00:00', '2017-11-20 06:00:00', '2017-11-20 07:00:00', '2017-11-20 08:00:00', '2017-11-20 09:00:00',\n",
       "               ...\n",
       "               '2018-02-10 14:00:00', '2018-02-10 15:00:00', '2018-02-10 16:00:00', '2018-02-10 17:00:00', '2018-02-10 18:00:00', '2018-02-10 19:00:00', '2018-02-10 20:00:00', '2018-02-10 21:00:00', '2018-02-10 22:00:00', '2018-02-10 23:00:00'], dtype='datetime64[ns]', name='utc', length=1992, freq=None)"
      ]
     },
     "execution_count": 70,
     "metadata": {},
     "output_type": "execute_result"
    }
   ],
   "source": [
    "df.index"
   ]
  },
  {
   "cell_type": "code",
   "execution_count": 71,
   "metadata": {
    "collapsed": true
   },
   "outputs": [],
   "source": [
    "#df = df.loc['2017-11-20T06:00:00':'2017-12-01T23:59:00']"
   ]
  },
  {
   "cell_type": "code",
   "execution_count": 80,
   "metadata": {},
   "outputs": [
    {
     "data": {
      "text/plain": [
       "1991"
      ]
     },
     "execution_count": 80,
     "metadata": {},
     "output_type": "execute_result"
    }
   ],
   "source": [
    "tradeperiod = df.index.max() - df.index.min()\n",
    "(tradeperiod / np.timedelta64(1, 'h')).astype(int)"
   ]
  },
  {
   "cell_type": "code",
   "execution_count": 72,
   "metadata": {},
   "outputs": [
    {
     "data": {
      "text/html": [
       "<div>\n",
       "<style scoped>\n",
       "    .dataframe tbody tr th:only-of-type {\n",
       "        vertical-align: middle;\n",
       "    }\n",
       "\n",
       "    .dataframe tbody tr th {\n",
       "        vertical-align: top;\n",
       "    }\n",
       "\n",
       "    .dataframe thead th {\n",
       "        text-align: right;\n",
       "    }\n",
       "</style>\n",
       "<table border=\"1\" class=\"dataframe\">\n",
       "  <thead>\n",
       "    <tr style=\"text-align: right;\">\n",
       "      <th></th>\n",
       "      <th>close</th>\n",
       "      <th>high</th>\n",
       "      <th>low</th>\n",
       "      <th>open</th>\n",
       "      <th>vol</th>\n",
       "    </tr>\n",
       "    <tr>\n",
       "      <th>utc</th>\n",
       "      <th></th>\n",
       "      <th></th>\n",
       "      <th></th>\n",
       "      <th></th>\n",
       "      <th></th>\n",
       "    </tr>\n",
       "  </thead>\n",
       "  <tbody>\n",
       "    <tr>\n",
       "      <th>2018-02-10 19:00:00</th>\n",
       "      <td>8569.29</td>\n",
       "      <td>8595.01</td>\n",
       "      <td>8498.34</td>\n",
       "      <td>8575.76</td>\n",
       "      <td>3902.20</td>\n",
       "    </tr>\n",
       "    <tr>\n",
       "      <th>2018-02-10 20:00:00</th>\n",
       "      <td>8408.29</td>\n",
       "      <td>8573.35</td>\n",
       "      <td>8320.56</td>\n",
       "      <td>8569.32</td>\n",
       "      <td>6089.25</td>\n",
       "    </tr>\n",
       "    <tr>\n",
       "      <th>2018-02-10 21:00:00</th>\n",
       "      <td>8272.61</td>\n",
       "      <td>8416.75</td>\n",
       "      <td>8189.88</td>\n",
       "      <td>8408.21</td>\n",
       "      <td>6631.15</td>\n",
       "    </tr>\n",
       "    <tr>\n",
       "      <th>2018-02-10 22:00:00</th>\n",
       "      <td>8267.21</td>\n",
       "      <td>8303.97</td>\n",
       "      <td>8195.10</td>\n",
       "      <td>8272.61</td>\n",
       "      <td>3338.20</td>\n",
       "    </tr>\n",
       "    <tr>\n",
       "      <th>2018-02-10 23:00:00</th>\n",
       "      <td>8051.65</td>\n",
       "      <td>8268.43</td>\n",
       "      <td>8030.55</td>\n",
       "      <td>8267.21</td>\n",
       "      <td>10577.33</td>\n",
       "    </tr>\n",
       "  </tbody>\n",
       "</table>\n",
       "</div>"
      ],
      "text/plain": [
       "                       close     high      low     open       vol\n",
       "utc                                                              \n",
       "2018-02-10 19:00:00  8569.29  8595.01  8498.34  8575.76   3902.20\n",
       "2018-02-10 20:00:00  8408.29  8573.35  8320.56  8569.32   6089.25\n",
       "2018-02-10 21:00:00  8272.61  8416.75  8189.88  8408.21   6631.15\n",
       "2018-02-10 22:00:00  8267.21  8303.97  8195.10  8272.61   3338.20\n",
       "2018-02-10 23:00:00  8051.65  8268.43  8030.55  8267.21  10577.33"
      ]
     },
     "execution_count": 72,
     "metadata": {},
     "output_type": "execute_result"
    }
   ],
   "source": [
    "df.tail()"
   ]
  },
  {
   "cell_type": "code",
   "execution_count": 67,
   "metadata": {},
   "outputs": [
    {
     "data": {
      "text/html": [
       "<div>\n",
       "<style scoped>\n",
       "    .dataframe tbody tr th:only-of-type {\n",
       "        vertical-align: middle;\n",
       "    }\n",
       "\n",
       "    .dataframe tbody tr th {\n",
       "        vertical-align: top;\n",
       "    }\n",
       "\n",
       "    .dataframe thead th {\n",
       "        text-align: right;\n",
       "    }\n",
       "</style>\n",
       "<table border=\"1\" class=\"dataframe\">\n",
       "  <thead>\n",
       "    <tr style=\"text-align: right;\">\n",
       "      <th></th>\n",
       "      <th>close</th>\n",
       "      <th>high</th>\n",
       "      <th>low</th>\n",
       "      <th>open</th>\n",
       "      <th>vol</th>\n",
       "    </tr>\n",
       "  </thead>\n",
       "  <tbody>\n",
       "    <tr>\n",
       "      <th>count</th>\n",
       "      <td>282.000000</td>\n",
       "      <td>282.000000</td>\n",
       "      <td>282.000000</td>\n",
       "      <td>282.000000</td>\n",
       "      <td>282.000000</td>\n",
       "    </tr>\n",
       "    <tr>\n",
       "      <th>mean</th>\n",
       "      <td>9096.567305</td>\n",
       "      <td>9158.243901</td>\n",
       "      <td>9021.039574</td>\n",
       "      <td>9086.298262</td>\n",
       "      <td>4652.742943</td>\n",
       "    </tr>\n",
       "    <tr>\n",
       "      <th>std</th>\n",
       "      <td>924.717592</td>\n",
       "      <td>957.725915</td>\n",
       "      <td>886.569034</td>\n",
       "      <td>920.363770</td>\n",
       "      <td>3056.562795</td>\n",
       "    </tr>\n",
       "    <tr>\n",
       "      <th>min</th>\n",
       "      <td>7858.720000</td>\n",
       "      <td>7996.050000</td>\n",
       "      <td>7819.060000</td>\n",
       "      <td>7858.710000</td>\n",
       "      <td>12.420000</td>\n",
       "    </tr>\n",
       "    <tr>\n",
       "      <th>25%</th>\n",
       "      <td>8210.610000</td>\n",
       "      <td>8243.665000</td>\n",
       "      <td>8182.035000</td>\n",
       "      <td>8209.045000</td>\n",
       "      <td>2733.612500</td>\n",
       "    </tr>\n",
       "    <tr>\n",
       "      <th>50%</th>\n",
       "      <td>8931.385000</td>\n",
       "      <td>8959.605000</td>\n",
       "      <td>8873.305000</td>\n",
       "      <td>8915.545000</td>\n",
       "      <td>3757.755000</td>\n",
       "    </tr>\n",
       "    <tr>\n",
       "      <th>75%</th>\n",
       "      <td>9854.437500</td>\n",
       "      <td>9909.802500</td>\n",
       "      <td>9691.800000</td>\n",
       "      <td>9848.950000</td>\n",
       "      <td>5582.182500</td>\n",
       "    </tr>\n",
       "    <tr>\n",
       "      <th>max</th>\n",
       "      <td>11190.490000</td>\n",
       "      <td>11417.840000</td>\n",
       "      <td>11145.920000</td>\n",
       "      <td>11193.770000</td>\n",
       "      <td>23064.860000</td>\n",
       "    </tr>\n",
       "  </tbody>\n",
       "</table>\n",
       "</div>"
      ],
      "text/plain": [
       "              close          high           low          open           vol\n",
       "count    282.000000    282.000000    282.000000    282.000000    282.000000\n",
       "mean    9096.567305   9158.243901   9021.039574   9086.298262   4652.742943\n",
       "std      924.717592    957.725915    886.569034    920.363770   3056.562795\n",
       "min     7858.720000   7996.050000   7819.060000   7858.710000     12.420000\n",
       "25%     8210.610000   8243.665000   8182.035000   8209.045000   2733.612500\n",
       "50%     8931.385000   8959.605000   8873.305000   8915.545000   3757.755000\n",
       "75%     9854.437500   9909.802500   9691.800000   9848.950000   5582.182500\n",
       "max    11190.490000  11417.840000  11145.920000  11193.770000  23064.860000"
      ]
     },
     "execution_count": 67,
     "metadata": {},
     "output_type": "execute_result"
    }
   ],
   "source": [
    "df.describe()"
   ]
  },
  {
   "cell_type": "code",
   "execution_count": 68,
   "metadata": {},
   "outputs": [
    {
     "data": {
      "text/plain": [
       "<matplotlib.axes._subplots.AxesSubplot at 0x110603278>"
      ]
     },
     "execution_count": 68,
     "metadata": {},
     "output_type": "execute_result"
    },
    {
     "data": {
      "image/png": "[encoded data removed]",
      "text/plain": [
       "<matplotlib.figure.Figure at 0x110603f98>"
      ]
     },
     "metadata": {},
     "output_type": "display_data"
    }
   ],
   "source": [
    "df.vol.plot(figsize=(15,8))"
   ]
  },
  {
   "cell_type": "code",
   "execution_count": 38,
   "metadata": {},
   "outputs": [
    {
     "data": {
      "text/plain": [
       "<matplotlib.axes._subplots.AxesSubplot at 0x10f60e1d0>"
      ]
     },
     "execution_count": 38,
     "metadata": {},
     "output_type": "execute_result"
    },
    {
     "data": {
      "image/png": "[encoded data removed]",
      "text/plain": [
       "<matplotlib.figure.Figure at 0x10f6daac8>"
      ]
     },
     "metadata": {},
     "output_type": "display_data"
    }
   ],
   "source": [
    "df.vol.hist(figsize=(15,8))"
   ]
  },
  {
   "cell_type": "code",
   "execution_count": 39,
   "metadata": {
    "collapsed": true
   },
   "outputs": [],
   "source": [
    "df.to_csv('./btchourly-modified.csv')"
   ]
  },
  {
   "cell_type": "code",
   "execution_count": 40,
   "metadata": {
    "collapsed": true
   },
   "outputs": [],
   "source": [
    "df = pd.read_csv(\"./btchourly-modified.csv\")"
   ]
  },
  {
   "cell_type": "code",
   "execution_count": 41,
   "metadata": {
    "collapsed": true
   },
   "outputs": [],
   "source": [
    "import talib as ta"
   ]
  },
  {
   "cell_type": "code",
   "execution_count": 42,
   "metadata": {
    "collapsed": true
   },
   "outputs": [],
   "source": [
    "df['bb_high'],df['bb_mid'],df['bb_low'] = ta.BBANDS(np.asarray(df.close),\n",
    "                                                  timeperiod=7,nbdevup=1.3,nbdevdn=1.3,matype=0)"
   ]
  },
  {
   "cell_type": "code",
   "execution_count": 43,
   "metadata": {
    "collapsed": true
   },
   "outputs": [],
   "source": [
    "df['rsi'] = ta.RSI(np.asarray(df.close),timeperiod=14)"
   ]
  },
  {
   "cell_type": "code",
   "execution_count": 44,
   "metadata": {
    "collapsed": true
   },
   "outputs": [],
   "source": [
    "df['close_lag1'] = df.close.shift(1)\n",
    "df['vol_lag1'] = df.vol.shift(1)\n",
    "df['bb_low_lag1'] = df.bb_low.shift(1)\n",
    "df['bb_mid_lag1'] = df.bb_mid.shift(1)\n",
    "df['bb_high_lag1'] = df.bb_high.shift(1)\n",
    "df['close_lag2'] = df.close.shift(2)\n",
    "df['vol_lag2'] = df.vol.shift(2)\n",
    "df['bb_low_lag2'] = df.bb_low.shift(2)\n",
    "df['bb_mid_lag2'] = df.bb_mid.shift(1)\n",
    "df['bb_high_lag2'] = df.bb_high.shift(2)\n",
    "df['rsi_lag1'] = df.rsi.shift(1)\n",
    "df['rsi_lag2'] = df.rsi.shift(2)"
   ]
  },
  {
   "cell_type": "code",
   "execution_count": 47,
   "metadata": {},
   "outputs": [
    {
     "data": {
      "text/html": [
       "<div>\n",
       "<style scoped>\n",
       "    .dataframe tbody tr th:only-of-type {\n",
       "        vertical-align: middle;\n",
       "    }\n",
       "\n",
       "    .dataframe tbody tr th {\n",
       "        vertical-align: top;\n",
       "    }\n",
       "\n",
       "    .dataframe thead th {\n",
       "        text-align: right;\n",
       "    }\n",
       "</style>\n",
       "<table border=\"1\" class=\"dataframe\">\n",
       "  <thead>\n",
       "    <tr style=\"text-align: right;\">\n",
       "      <th></th>\n",
       "      <th>utc</th>\n",
       "      <th>close</th>\n",
       "      <th>high</th>\n",
       "      <th>low</th>\n",
       "      <th>open</th>\n",
       "      <th>vol</th>\n",
       "      <th>bb_high</th>\n",
       "      <th>bb_mid</th>\n",
       "      <th>bb_low</th>\n",
       "      <th>rsi</th>\n",
       "      <th>...</th>\n",
       "      <th>bb_low_lag1</th>\n",
       "      <th>bb_mid_lag1</th>\n",
       "      <th>bb_high_lag1</th>\n",
       "      <th>close_lag2</th>\n",
       "      <th>vol_lag2</th>\n",
       "      <th>bb_low_lag2</th>\n",
       "      <th>bb_mid_lag2</th>\n",
       "      <th>bb_high_lag2</th>\n",
       "      <th>rsi_lag1</th>\n",
       "      <th>rsi_lag2</th>\n",
       "    </tr>\n",
       "  </thead>\n",
       "  <tbody>\n",
       "    <tr>\n",
       "      <th>30</th>\n",
       "      <td>2017-11-21 06:00:00</td>\n",
       "      <td>8186.81</td>\n",
       "      <td>8214.21</td>\n",
       "      <td>8177.95</td>\n",
       "      <td>8213.73</td>\n",
       "      <td>1846.73</td>\n",
       "      <td>8255.654767</td>\n",
       "      <td>8107.115714</td>\n",
       "      <td>7958.576662</td>\n",
       "      <td>55.680229</td>\n",
       "      <td>...</td>\n",
       "      <td>7897.167708</td>\n",
       "      <td>8065.587143</td>\n",
       "      <td>8234.006578</td>\n",
       "      <td>8193.34</td>\n",
       "      <td>3151.3</td>\n",
       "      <td>7897.682932</td>\n",
       "      <td>8065.587143</td>\n",
       "      <td>8199.64564</td>\n",
       "      <td>57.765161</td>\n",
       "      <td>56.622782</td>\n",
       "    </tr>\n",
       "  </tbody>\n",
       "</table>\n",
       "<p>1 rows × 22 columns</p>\n",
       "</div>"
      ],
      "text/plain": [
       "                    utc    close     high      low     open      vol      bb_high       bb_mid       bb_low        rsi    ...      bb_low_lag1  bb_mid_lag1  bb_high_lag1  close_lag2  vol_lag2  bb_low_lag2  bb_mid_lag2  bb_high_lag2   rsi_lag1   rsi_lag2\n",
       "30  2017-11-21 06:00:00  8186.81  8214.21  8177.95  8213.73  1846.73  8255.654767  8107.115714  7958.576662  55.680229    ...      7897.167708  8065.587143   8234.006578     8193.34    3151.3  7897.682932  8065.587143    8199.64564  57.765161  56.622782\n",
       "\n",
       "[1 rows x 22 columns]"
      ]
     },
     "execution_count": 47,
     "metadata": {},
     "output_type": "execute_result"
    }
   ],
   "source": [
    "df[30:31]"
   ]
  },
  {
   "cell_type": "code",
   "execution_count": 54,
   "metadata": {},
   "outputs": [],
   "source": [
    "df.utc = pd.to_datetime(df.utc)"
   ]
  },
  {
   "cell_type": "code",
   "execution_count": 59,
   "metadata": {},
   "outputs": [],
   "source": [
    "tradeperiod = df.utc.max() - df.utc.min()"
   ]
  },
  {
   "cell_type": "code",
   "execution_count": 62,
   "metadata": {},
   "outputs": [
    {
     "data": {
      "text/plain": [
       "-0.057026938391176896"
      ]
     },
     "execution_count": 62,
     "metadata": {},
     "output_type": "execute_result"
    }
   ],
   "source": [
    "(1-.23)**(82/365)-1"
   ]
  },
  {
   "cell_type": "code",
   "execution_count": 82,
   "metadata": {},
   "outputs": [
    {
     "data": {
      "text/plain": [
       "1991"
      ]
     },
     "execution_count": 82,
     "metadata": {},
     "output_type": "execute_result"
    }
   ],
   "source": [
    "(tradeperiod / np.timedelta64(1, 'h')).astype(int)"
   ]
  },
  {
   "cell_type": "code",
   "execution_count": 83,
   "metadata": {},
   "outputs": [
    {
     "data": {
      "text/plain": [
       "1992"
      ]
     },
     "execution_count": 83,
     "metadata": {},
     "output_type": "execute_result"
    }
   ],
   "source": [
    "len(df)"
   ]
  },
  {
   "cell_type": "code",
   "execution_count": null,
   "metadata": {
    "collapsed": true
   },
   "outputs": [],
   "source": []
  }
 ],
 "metadata": {
  "kernelspec": {
   "display_name": "Python 3",
   "language": "python",
   "name": "python3"
  },
  "language_info": {
   "codemirror_mode": {
    "name": "ipython",
    "version": 3
   },
   "file_extension": ".py",
   "mimetype": "text/x-python",
   "name": "python",
   "nbconvert_exporter": "python",
   "pygments_lexer": "ipython3",
   "version": "3.6.1"
  }
 },
 "nbformat": 4,
 "nbformat_minor": 2
}
