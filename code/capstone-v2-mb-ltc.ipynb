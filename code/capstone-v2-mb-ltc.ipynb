{
 "cells": [
  {
   "cell_type": "code",
   "execution_count": 1,
   "metadata": {
    "collapsed": true
   },
   "outputs": [],
   "source": [
    "# Code modified and fixed from Stock Technical Analysis with Python\n",
    "%matplotlib inline\n",
    "import pandas as pd\n",
    "import matplotlib.pyplot as plt\n",
    "import talib as ta\n",
    "import numpy as np"
   ]
  },
  {
   "cell_type": "code",
   "execution_count": 15,
   "metadata": {},
   "outputs": [],
   "source": [
    "df = pd.read_csv(\"../data/ltchourly.csv\")\n",
    "df.index = pd.to_datetime(df.utc)\n",
    "del df['utc']"
   ]
  },
  {
   "cell_type": "code",
   "execution_count": 16,
   "metadata": {},
   "outputs": [
    {
     "data": {
      "text/plain": [
       "DatetimeIndex(['2016-10-03 19:00:00', '2016-10-03 20:00:00',\n",
       "               '2016-10-03 21:00:00', '2016-10-03 22:00:00',\n",
       "               '2016-10-03 23:00:00', '2016-10-04 00:00:00',\n",
       "               '2016-10-04 01:00:00', '2016-10-04 02:00:00',\n",
       "               '2016-10-04 03:00:00', '2016-10-04 04:00:00',\n",
       "               ...\n",
       "               '2018-02-15 09:00:00', '2018-02-15 10:00:00',\n",
       "               '2018-02-15 11:00:00', '2018-02-15 12:00:00',\n",
       "               '2018-02-15 13:00:00', '2018-02-15 14:00:00',\n",
       "               '2018-02-15 15:00:00', '2018-02-15 16:00:00',\n",
       "               '2018-02-15 17:00:00', '2018-02-15 18:00:00'],\n",
       "              dtype='datetime64[ns]', name='utc', length=12001, freq=None)"
      ]
     },
     "execution_count": 16,
     "metadata": {},
     "output_type": "execute_result"
    }
   ],
   "source": [
    "df.index"
   ]
  },
  {
   "cell_type": "code",
   "execution_count": 17,
   "metadata": {
    "collapsed": true
   },
   "outputs": [],
   "source": [
    "#df = df.loc['2017-11-20T06:00:00':'2017-12-01T23:59:00']"
   ]
  },
  {
   "cell_type": "code",
   "execution_count": 18,
   "metadata": {},
   "outputs": [
    {
     "data": {
      "text/plain": [
       "11999"
      ]
     },
     "execution_count": 18,
     "metadata": {},
     "output_type": "execute_result"
    }
   ],
   "source": [
    "tradeperiod = df.index.max() - df.index.min()\n",
    "(tradeperiod / np.timedelta64(1, 'h')).astype(int)"
   ]
  },
  {
   "cell_type": "code",
   "execution_count": 19,
   "metadata": {},
   "outputs": [
    {
     "data": {
      "text/html": [
       "<div>\n",
       "<style scoped>\n",
       "    .dataframe tbody tr th:only-of-type {\n",
       "        vertical-align: middle;\n",
       "    }\n",
       "\n",
       "    .dataframe tbody tr th {\n",
       "        vertical-align: top;\n",
       "    }\n",
       "\n",
       "    .dataframe thead th {\n",
       "        text-align: right;\n",
       "    }\n",
       "</style>\n",
       "<table border=\"1\" class=\"dataframe\">\n",
       "  <thead>\n",
       "    <tr style=\"text-align: right;\">\n",
       "      <th></th>\n",
       "      <th>close</th>\n",
       "      <th>high</th>\n",
       "      <th>low</th>\n",
       "      <th>open</th>\n",
       "      <th>time</th>\n",
       "      <th>vol</th>\n",
       "    </tr>\n",
       "    <tr>\n",
       "      <th>utc</th>\n",
       "      <th></th>\n",
       "      <th></th>\n",
       "      <th></th>\n",
       "      <th></th>\n",
       "      <th></th>\n",
       "      <th></th>\n",
       "    </tr>\n",
       "  </thead>\n",
       "  <tbody>\n",
       "    <tr>\n",
       "      <th>2018-02-15 14:00:00</th>\n",
       "      <td>218.71</td>\n",
       "      <td>222.34</td>\n",
       "      <td>216.25</td>\n",
       "      <td>221.90</td>\n",
       "      <td>1518717600</td>\n",
       "      <td>67107.79</td>\n",
       "    </tr>\n",
       "    <tr>\n",
       "      <th>2018-02-15 15:00:00</th>\n",
       "      <td>217.26</td>\n",
       "      <td>219.39</td>\n",
       "      <td>216.97</td>\n",
       "      <td>218.71</td>\n",
       "      <td>1518721200</td>\n",
       "      <td>38850.16</td>\n",
       "    </tr>\n",
       "    <tr>\n",
       "      <th>2018-02-15 16:00:00</th>\n",
       "      <td>215.86</td>\n",
       "      <td>217.41</td>\n",
       "      <td>210.68</td>\n",
       "      <td>217.27</td>\n",
       "      <td>1518724800</td>\n",
       "      <td>85622.06</td>\n",
       "    </tr>\n",
       "    <tr>\n",
       "      <th>2018-02-15 17:00:00</th>\n",
       "      <td>207.51</td>\n",
       "      <td>215.86</td>\n",
       "      <td>206.77</td>\n",
       "      <td>215.86</td>\n",
       "      <td>1518728400</td>\n",
       "      <td>99368.25</td>\n",
       "    </tr>\n",
       "    <tr>\n",
       "      <th>2018-02-15 18:00:00</th>\n",
       "      <td>210.09</td>\n",
       "      <td>211.45</td>\n",
       "      <td>207.44</td>\n",
       "      <td>207.51</td>\n",
       "      <td>1518732000</td>\n",
       "      <td>44560.96</td>\n",
       "    </tr>\n",
       "  </tbody>\n",
       "</table>\n",
       "</div>"
      ],
      "text/plain": [
       "                      close    high     low    open        time       vol\n",
       "utc                                                                      \n",
       "2018-02-15 14:00:00  218.71  222.34  216.25  221.90  1518717600  67107.79\n",
       "2018-02-15 15:00:00  217.26  219.39  216.97  218.71  1518721200  38850.16\n",
       "2018-02-15 16:00:00  215.86  217.41  210.68  217.27  1518724800  85622.06\n",
       "2018-02-15 17:00:00  207.51  215.86  206.77  215.86  1518728400  99368.25\n",
       "2018-02-15 18:00:00  210.09  211.45  207.44  207.51  1518732000  44560.96"
      ]
     },
     "execution_count": 19,
     "metadata": {},
     "output_type": "execute_result"
    }
   ],
   "source": [
    "df.tail()"
   ]
  },
  {
   "cell_type": "code",
   "execution_count": 20,
   "metadata": {},
   "outputs": [
    {
     "data": {
      "text/html": [
       "<div>\n",
       "<style scoped>\n",
       "    .dataframe tbody tr th:only-of-type {\n",
       "        vertical-align: middle;\n",
       "    }\n",
       "\n",
       "    .dataframe tbody tr th {\n",
       "        vertical-align: top;\n",
       "    }\n",
       "\n",
       "    .dataframe thead th {\n",
       "        text-align: right;\n",
       "    }\n",
       "</style>\n",
       "<table border=\"1\" class=\"dataframe\">\n",
       "  <thead>\n",
       "    <tr style=\"text-align: right;\">\n",
       "      <th></th>\n",
       "      <th>close</th>\n",
       "      <th>high</th>\n",
       "      <th>low</th>\n",
       "      <th>open</th>\n",
       "      <th>time</th>\n",
       "      <th>vol</th>\n",
       "    </tr>\n",
       "  </thead>\n",
       "  <tbody>\n",
       "    <tr>\n",
       "      <th>count</th>\n",
       "      <td>12001.000000</td>\n",
       "      <td>12001.000000</td>\n",
       "      <td>12001.000000</td>\n",
       "      <td>12001.000000</td>\n",
       "      <td>1.200100e+04</td>\n",
       "      <td>12001.000000</td>\n",
       "    </tr>\n",
       "    <tr>\n",
       "      <th>mean</th>\n",
       "      <td>54.600779</td>\n",
       "      <td>55.237990</td>\n",
       "      <td>53.898103</td>\n",
       "      <td>54.580892</td>\n",
       "      <td>1.497132e+09</td>\n",
       "      <td>41034.785123</td>\n",
       "    </tr>\n",
       "    <tr>\n",
       "      <th>std</th>\n",
       "      <td>73.341918</td>\n",
       "      <td>74.375942</td>\n",
       "      <td>72.187600</td>\n",
       "      <td>73.323543</td>\n",
       "      <td>1.247232e+07</td>\n",
       "      <td>61552.852193</td>\n",
       "    </tr>\n",
       "    <tr>\n",
       "      <th>min</th>\n",
       "      <td>3.380000</td>\n",
       "      <td>3.440000</td>\n",
       "      <td>3.190000</td>\n",
       "      <td>3.380000</td>\n",
       "      <td>1.475532e+09</td>\n",
       "      <td>0.000000</td>\n",
       "    </tr>\n",
       "    <tr>\n",
       "      <th>25%</th>\n",
       "      <td>3.940000</td>\n",
       "      <td>3.960000</td>\n",
       "      <td>3.920000</td>\n",
       "      <td>3.940000</td>\n",
       "      <td>1.486332e+09</td>\n",
       "      <td>4642.780000</td>\n",
       "    </tr>\n",
       "    <tr>\n",
       "      <th>50%</th>\n",
       "      <td>30.470000</td>\n",
       "      <td>30.860000</td>\n",
       "      <td>30.020000</td>\n",
       "      <td>30.460000</td>\n",
       "      <td>1.497132e+09</td>\n",
       "      <td>22835.120000</td>\n",
       "    </tr>\n",
       "    <tr>\n",
       "      <th>75%</th>\n",
       "      <td>58.330000</td>\n",
       "      <td>58.820000</td>\n",
       "      <td>57.830000</td>\n",
       "      <td>58.330000</td>\n",
       "      <td>1.507932e+09</td>\n",
       "      <td>49753.950000</td>\n",
       "    </tr>\n",
       "    <tr>\n",
       "      <th>max</th>\n",
       "      <td>370.410000</td>\n",
       "      <td>401.760000</td>\n",
       "      <td>364.620000</td>\n",
       "      <td>370.550000</td>\n",
       "      <td>1.518732e+09</td>\n",
       "      <td>910752.980000</td>\n",
       "    </tr>\n",
       "  </tbody>\n",
       "</table>\n",
       "</div>"
      ],
      "text/plain": [
       "              close          high           low          open          time  \\\n",
       "count  12001.000000  12001.000000  12001.000000  12001.000000  1.200100e+04   \n",
       "mean      54.600779     55.237990     53.898103     54.580892  1.497132e+09   \n",
       "std       73.341918     74.375942     72.187600     73.323543  1.247232e+07   \n",
       "min        3.380000      3.440000      3.190000      3.380000  1.475532e+09   \n",
       "25%        3.940000      3.960000      3.920000      3.940000  1.486332e+09   \n",
       "50%       30.470000     30.860000     30.020000     30.460000  1.497132e+09   \n",
       "75%       58.330000     58.820000     57.830000     58.330000  1.507932e+09   \n",
       "max      370.410000    401.760000    364.620000    370.550000  1.518732e+09   \n",
       "\n",
       "                 vol  \n",
       "count   12001.000000  \n",
       "mean    41034.785123  \n",
       "std     61552.852193  \n",
       "min         0.000000  \n",
       "25%      4642.780000  \n",
       "50%     22835.120000  \n",
       "75%     49753.950000  \n",
       "max    910752.980000  "
      ]
     },
     "execution_count": 20,
     "metadata": {},
     "output_type": "execute_result"
    }
   ],
   "source": [
    "df.describe()"
   ]
  },
  {
   "cell_type": "code",
   "execution_count": 21,
   "metadata": {},
   "outputs": [
    {
     "data": {
      "text/plain": [
       "<matplotlib.axes._subplots.AxesSubplot at 0x11447b780>"
      ]
     },
     "execution_count": 21,
     "metadata": {},
     "output_type": "execute_result"
    },
    {
     "data": {
      "image/png": "[encoded data removed]",
      "text/plain": [
       "<matplotlib.figure.Figure at 0x114475ef0>"
      ]
     },
     "metadata": {},
     "output_type": "display_data"
    }
   ],
   "source": [
    "df.vol.plot(figsize=(15,8))"
   ]
  },
  {
   "cell_type": "code",
   "execution_count": 22,
   "metadata": {},
   "outputs": [
    {
     "data": {
      "text/plain": [
       "<matplotlib.axes._subplots.AxesSubplot at 0x110ddc860>"
      ]
     },
     "execution_count": 22,
     "metadata": {},
     "output_type": "execute_result"
    },
    {
     "data": {
      "image/png": "[encoded data removed]",
      "text/plain": [
       "<matplotlib.figure.Figure at 0x1145c2390>"
      ]
     },
     "metadata": {},
     "output_type": "display_data"
    }
   ],
   "source": [
    "df.vol.hist(figsize=(15,8))"
   ]
  },
  {
   "cell_type": "code",
   "execution_count": 23,
   "metadata": {
    "collapsed": true
   },
   "outputs": [],
   "source": [
    "df.to_csv('./ltchourly-modified.csv')"
   ]
  },
  {
   "cell_type": "code",
   "execution_count": 24,
   "metadata": {
    "collapsed": true
   },
   "outputs": [],
   "source": [
    "df = pd.read_csv(\"./ltchourly-modified.csv\")"
   ]
  },
  {
   "cell_type": "code",
   "execution_count": 25,
   "metadata": {
    "collapsed": true
   },
   "outputs": [],
   "source": [
    "import talib as ta"
   ]
  },
  {
   "cell_type": "code",
   "execution_count": 26,
   "metadata": {
    "collapsed": true
   },
   "outputs": [],
   "source": [
    "df['bb_high'],df['bb_mid'],df['bb_low'] = ta.BBANDS(np.asarray(df.close),\n",
    "                                                  timeperiod=7,nbdevup=1.3,nbdevdn=1.3,matype=0)"
   ]
  },
  {
   "cell_type": "code",
   "execution_count": 27,
   "metadata": {
    "collapsed": true
   },
   "outputs": [],
   "source": [
    "df['rsi'] = ta.RSI(np.asarray(df.close),timeperiod=14)"
   ]
  },
  {
   "cell_type": "code",
   "execution_count": 28,
   "metadata": {
    "collapsed": true
   },
   "outputs": [],
   "source": [
    "df['close_lag1'] = df.close.shift(1)\n",
    "df['vol_lag1'] = df.vol.shift(1)\n",
    "df['bb_low_lag1'] = df.bb_low.shift(1)\n",
    "df['bb_mid_lag1'] = df.bb_mid.shift(1)\n",
    "df['bb_high_lag1'] = df.bb_high.shift(1)\n",
    "df['close_lag2'] = df.close.shift(2)\n",
    "df['vol_lag2'] = df.vol.shift(2)\n",
    "df['bb_low_lag2'] = df.bb_low.shift(2)\n",
    "df['bb_mid_lag2'] = df.bb_mid.shift(1)\n",
    "df['bb_high_lag2'] = df.bb_high.shift(2)\n",
    "df['rsi_lag1'] = df.rsi.shift(1)\n",
    "df['rsi_lag2'] = df.rsi.shift(2)"
   ]
  },
  {
   "cell_type": "code",
   "execution_count": 29,
   "metadata": {},
   "outputs": [
    {
     "data": {
      "text/html": [
       "<div>\n",
       "<style scoped>\n",
       "    .dataframe tbody tr th:only-of-type {\n",
       "        vertical-align: middle;\n",
       "    }\n",
       "\n",
       "    .dataframe tbody tr th {\n",
       "        vertical-align: top;\n",
       "    }\n",
       "\n",
       "    .dataframe thead th {\n",
       "        text-align: right;\n",
       "    }\n",
       "</style>\n",
       "<table border=\"1\" class=\"dataframe\">\n",
       "  <thead>\n",
       "    <tr style=\"text-align: right;\">\n",
       "      <th></th>\n",
       "      <th>utc</th>\n",
       "      <th>close</th>\n",
       "      <th>high</th>\n",
       "      <th>low</th>\n",
       "      <th>open</th>\n",
       "      <th>time</th>\n",
       "      <th>vol</th>\n",
       "      <th>bb_high</th>\n",
       "      <th>bb_mid</th>\n",
       "      <th>bb_low</th>\n",
       "      <th>...</th>\n",
       "      <th>bb_low_lag1</th>\n",
       "      <th>bb_mid_lag1</th>\n",
       "      <th>bb_high_lag1</th>\n",
       "      <th>close_lag2</th>\n",
       "      <th>vol_lag2</th>\n",
       "      <th>bb_low_lag2</th>\n",
       "      <th>bb_mid_lag2</th>\n",
       "      <th>bb_high_lag2</th>\n",
       "      <th>rsi_lag1</th>\n",
       "      <th>rsi_lag2</th>\n",
       "    </tr>\n",
       "  </thead>\n",
       "  <tbody>\n",
       "    <tr>\n",
       "      <th>30</th>\n",
       "      <td>2016-10-05 01:00:00</td>\n",
       "      <td>3.82</td>\n",
       "      <td>3.83</td>\n",
       "      <td>3.81</td>\n",
       "      <td>3.82</td>\n",
       "      <td>1475640000</td>\n",
       "      <td>1336.78</td>\n",
       "      <td>3.826949</td>\n",
       "      <td>3.82</td>\n",
       "      <td>3.813051</td>\n",
       "      <td>...</td>\n",
       "      <td>3.813051</td>\n",
       "      <td>3.82</td>\n",
       "      <td>3.826949</td>\n",
       "      <td>3.81</td>\n",
       "      <td>1085.18</td>\n",
       "      <td>3.813123</td>\n",
       "      <td>3.82</td>\n",
       "      <td>3.829734</td>\n",
       "      <td>49.21719</td>\n",
       "      <td>44.595439</td>\n",
       "    </tr>\n",
       "  </tbody>\n",
       "</table>\n",
       "<p>1 rows × 23 columns</p>\n",
       "</div>"
      ],
      "text/plain": [
       "                    utc  close  high   low  open        time      vol  \\\n",
       "30  2016-10-05 01:00:00   3.82  3.83  3.81  3.82  1475640000  1336.78   \n",
       "\n",
       "     bb_high  bb_mid    bb_low    ...      bb_low_lag1  bb_mid_lag1  \\\n",
       "30  3.826949    3.82  3.813051    ...         3.813051         3.82   \n",
       "\n",
       "    bb_high_lag1  close_lag2  vol_lag2  bb_low_lag2  bb_mid_lag2  \\\n",
       "30      3.826949        3.81   1085.18     3.813123         3.82   \n",
       "\n",
       "    bb_high_lag2  rsi_lag1   rsi_lag2  \n",
       "30      3.829734  49.21719  44.595439  \n",
       "\n",
       "[1 rows x 23 columns]"
      ]
     },
     "execution_count": 29,
     "metadata": {},
     "output_type": "execute_result"
    }
   ],
   "source": [
    "df[30:31]"
   ]
  },
  {
   "cell_type": "code",
   "execution_count": 30,
   "metadata": {
    "collapsed": true
   },
   "outputs": [],
   "source": [
    "df.utc = pd.to_datetime(df.utc)"
   ]
  },
  {
   "cell_type": "code",
   "execution_count": 31,
   "metadata": {
    "collapsed": true
   },
   "outputs": [],
   "source": [
    "tradeperiod = df.utc.max() - df.utc.min()"
   ]
  },
  {
   "cell_type": "code",
   "execution_count": 32,
   "metadata": {},
   "outputs": [
    {
     "data": {
      "text/plain": [
       "-0.057026938391176896"
      ]
     },
     "execution_count": 32,
     "metadata": {},
     "output_type": "execute_result"
    }
   ],
   "source": [
    "(1-.23)**(82/365)-1"
   ]
  },
  {
   "cell_type": "code",
   "execution_count": 33,
   "metadata": {},
   "outputs": [
    {
     "data": {
      "text/plain": [
       "11999"
      ]
     },
     "execution_count": 33,
     "metadata": {},
     "output_type": "execute_result"
    }
   ],
   "source": [
    "(tradeperiod / np.timedelta64(1, 'h')).astype(int)"
   ]
  },
  {
   "cell_type": "code",
   "execution_count": 34,
   "metadata": {},
   "outputs": [
    {
     "data": {
      "text/plain": [
       "12001"
      ]
     },
     "execution_count": 34,
     "metadata": {},
     "output_type": "execute_result"
    }
   ],
   "source": [
    "len(df)"
   ]
  },
  {
   "cell_type": "code",
   "execution_count": 1,
   "metadata": {
    "collapsed": true
   },
   "outputs": [],
   "source": [
    "from sklearn.model_selection import ParameterGrid\n",
    "\n",
    "### PARAMETERS\n",
    "bb_timeperiod = 8\n",
    "bb_stddev = 1.3\n",
    "rsi_timeperiod = 8\n",
    "rsi_buy = 35\n",
    "rsi_sell = 80\n",
    "yr_trading_periods = 365. * 24.\n",
    "trading_frequency = 1\n",
    "show_graphs = True\n",
    "\n",
    "# scenarios\n",
    "scenario_grid = {'timeperiod': [4,8,12,24,36],\n",
    "              'stddev': [1.3, 1.4, 1.5, 1.6],\n",
    "              'buy': [20, 25, 30, 35, 40],\n",
    "              'sell': [75, 80, 85, 90]}"
   ]
  },
  {
   "cell_type": "code",
   "execution_count": 16,
   "metadata": {},
   "outputs": [
    {
     "name": "stdout",
     "output_type": "stream",
     "text": [
      "0 4 1.3 4 20 75\n",
      "1 8 1.3 8 20 75\n",
      "2 12 1.3 12 20 75\n",
      "3 24 1.3 24 20 75\n",
      "4 36 1.3 36 20 75\n",
      "5 4 1.4 4 20 75\n",
      "6 8 1.4 8 20 75\n",
      "7 12 1.4 12 20 75\n",
      "8 24 1.4 24 20 75\n",
      "9 36 1.4 36 20 75\n",
      "10 4 1.5 4 20 75\n",
      "11 8 1.5 8 20 75\n",
      "12 12 1.5 12 20 75\n",
      "13 24 1.5 24 20 75\n",
      "14 36 1.5 36 20 75\n",
      "15 4 1.6 4 20 75\n",
      "16 8 1.6 8 20 75\n",
      "17 12 1.6 12 20 75\n",
      "18 24 1.6 24 20 75\n",
      "19 36 1.6 36 20 75\n",
      "20 4 1.3 4 20 80\n",
      "21 8 1.3 8 20 80\n",
      "22 12 1.3 12 20 80\n",
      "23 24 1.3 24 20 80\n",
      "24 36 1.3 36 20 80\n",
      "25 4 1.4 4 20 80\n",
      "26 8 1.4 8 20 80\n",
      "27 12 1.4 12 20 80\n",
      "28 24 1.4 24 20 80\n",
      "29 36 1.4 36 20 80\n",
      "30 4 1.5 4 20 80\n",
      "31 8 1.5 8 20 80\n",
      "32 12 1.5 12 20 80\n",
      "33 24 1.5 24 20 80\n",
      "34 36 1.5 36 20 80\n",
      "35 4 1.6 4 20 80\n",
      "36 8 1.6 8 20 80\n",
      "37 12 1.6 12 20 80\n",
      "38 24 1.6 24 20 80\n",
      "39 36 1.6 36 20 80\n",
      "40 4 1.3 4 20 85\n",
      "41 8 1.3 8 20 85\n",
      "42 12 1.3 12 20 85\n",
      "43 24 1.3 24 20 85\n",
      "44 36 1.3 36 20 85\n",
      "45 4 1.4 4 20 85\n",
      "46 8 1.4 8 20 85\n",
      "47 12 1.4 12 20 85\n",
      "48 24 1.4 24 20 85\n",
      "49 36 1.4 36 20 85\n",
      "50 4 1.5 4 20 85\n",
      "51 8 1.5 8 20 85\n",
      "52 12 1.5 12 20 85\n",
      "53 24 1.5 24 20 85\n",
      "54 36 1.5 36 20 85\n",
      "55 4 1.6 4 20 85\n",
      "56 8 1.6 8 20 85\n",
      "57 12 1.6 12 20 85\n",
      "58 24 1.6 24 20 85\n",
      "59 36 1.6 36 20 85\n",
      "60 4 1.3 4 20 90\n",
      "61 8 1.3 8 20 90\n",
      "62 12 1.3 12 20 90\n",
      "63 24 1.3 24 20 90\n",
      "64 36 1.3 36 20 90\n",
      "65 4 1.4 4 20 90\n",
      "66 8 1.4 8 20 90\n",
      "67 12 1.4 12 20 90\n",
      "68 24 1.4 24 20 90\n",
      "69 36 1.4 36 20 90\n",
      "70 4 1.5 4 20 90\n",
      "71 8 1.5 8 20 90\n",
      "72 12 1.5 12 20 90\n",
      "73 24 1.5 24 20 90\n",
      "74 36 1.5 36 20 90\n",
      "75 4 1.6 4 20 90\n",
      "76 8 1.6 8 20 90\n",
      "77 12 1.6 12 20 90\n",
      "78 24 1.6 24 20 90\n",
      "79 36 1.6 36 20 90\n",
      "80 4 1.3 4 25 75\n",
      "81 8 1.3 8 25 75\n",
      "82 12 1.3 12 25 75\n",
      "83 24 1.3 24 25 75\n",
      "84 36 1.3 36 25 75\n",
      "85 4 1.4 4 25 75\n",
      "86 8 1.4 8 25 75\n",
      "87 12 1.4 12 25 75\n",
      "88 24 1.4 24 25 75\n",
      "89 36 1.4 36 25 75\n",
      "90 4 1.5 4 25 75\n",
      "91 8 1.5 8 25 75\n",
      "92 12 1.5 12 25 75\n",
      "93 24 1.5 24 25 75\n",
      "94 36 1.5 36 25 75\n",
      "95 4 1.6 4 25 75\n",
      "96 8 1.6 8 25 75\n",
      "97 12 1.6 12 25 75\n",
      "98 24 1.6 24 25 75\n",
      "99 36 1.6 36 25 75\n",
      "100 4 1.3 4 25 80\n",
      "101 8 1.3 8 25 80\n",
      "102 12 1.3 12 25 80\n",
      "103 24 1.3 24 25 80\n",
      "104 36 1.3 36 25 80\n",
      "105 4 1.4 4 25 80\n",
      "106 8 1.4 8 25 80\n",
      "107 12 1.4 12 25 80\n",
      "108 24 1.4 24 25 80\n",
      "109 36 1.4 36 25 80\n",
      "110 4 1.5 4 25 80\n",
      "111 8 1.5 8 25 80\n",
      "112 12 1.5 12 25 80\n",
      "113 24 1.5 24 25 80\n",
      "114 36 1.5 36 25 80\n",
      "115 4 1.6 4 25 80\n",
      "116 8 1.6 8 25 80\n",
      "117 12 1.6 12 25 80\n",
      "118 24 1.6 24 25 80\n",
      "119 36 1.6 36 25 80\n",
      "120 4 1.3 4 25 85\n",
      "121 8 1.3 8 25 85\n",
      "122 12 1.3 12 25 85\n",
      "123 24 1.3 24 25 85\n",
      "124 36 1.3 36 25 85\n",
      "125 4 1.4 4 25 85\n",
      "126 8 1.4 8 25 85\n",
      "127 12 1.4 12 25 85\n",
      "128 24 1.4 24 25 85\n",
      "129 36 1.4 36 25 85\n",
      "130 4 1.5 4 25 85\n",
      "131 8 1.5 8 25 85\n",
      "132 12 1.5 12 25 85\n",
      "133 24 1.5 24 25 85\n",
      "134 36 1.5 36 25 85\n",
      "135 4 1.6 4 25 85\n",
      "136 8 1.6 8 25 85\n",
      "137 12 1.6 12 25 85\n",
      "138 24 1.6 24 25 85\n",
      "139 36 1.6 36 25 85\n",
      "140 4 1.3 4 25 90\n",
      "141 8 1.3 8 25 90\n",
      "142 12 1.3 12 25 90\n",
      "143 24 1.3 24 25 90\n",
      "144 36 1.3 36 25 90\n",
      "145 4 1.4 4 25 90\n",
      "146 8 1.4 8 25 90\n",
      "147 12 1.4 12 25 90\n",
      "148 24 1.4 24 25 90\n",
      "149 36 1.4 36 25 90\n",
      "150 4 1.5 4 25 90\n",
      "151 8 1.5 8 25 90\n",
      "152 12 1.5 12 25 90\n",
      "153 24 1.5 24 25 90\n",
      "154 36 1.5 36 25 90\n",
      "155 4 1.6 4 25 90\n",
      "156 8 1.6 8 25 90\n",
      "157 12 1.6 12 25 90\n",
      "158 24 1.6 24 25 90\n",
      "159 36 1.6 36 25 90\n",
      "160 4 1.3 4 30 75\n",
      "161 8 1.3 8 30 75\n",
      "162 12 1.3 12 30 75\n",
      "163 24 1.3 24 30 75\n",
      "164 36 1.3 36 30 75\n",
      "165 4 1.4 4 30 75\n",
      "166 8 1.4 8 30 75\n",
      "167 12 1.4 12 30 75\n",
      "168 24 1.4 24 30 75\n",
      "169 36 1.4 36 30 75\n",
      "170 4 1.5 4 30 75\n",
      "171 8 1.5 8 30 75\n",
      "172 12 1.5 12 30 75\n",
      "173 24 1.5 24 30 75\n",
      "174 36 1.5 36 30 75\n",
      "175 4 1.6 4 30 75\n",
      "176 8 1.6 8 30 75\n",
      "177 12 1.6 12 30 75\n",
      "178 24 1.6 24 30 75\n",
      "179 36 1.6 36 30 75\n",
      "180 4 1.3 4 30 80\n",
      "181 8 1.3 8 30 80\n",
      "182 12 1.3 12 30 80\n",
      "183 24 1.3 24 30 80\n",
      "184 36 1.3 36 30 80\n",
      "185 4 1.4 4 30 80\n",
      "186 8 1.4 8 30 80\n",
      "187 12 1.4 12 30 80\n",
      "188 24 1.4 24 30 80\n",
      "189 36 1.4 36 30 80\n",
      "190 4 1.5 4 30 80\n",
      "191 8 1.5 8 30 80\n",
      "192 12 1.5 12 30 80\n",
      "193 24 1.5 24 30 80\n",
      "194 36 1.5 36 30 80\n",
      "195 4 1.6 4 30 80\n",
      "196 8 1.6 8 30 80\n",
      "197 12 1.6 12 30 80\n",
      "198 24 1.6 24 30 80\n",
      "199 36 1.6 36 30 80\n",
      "200 4 1.3 4 30 85\n",
      "201 8 1.3 8 30 85\n",
      "202 12 1.3 12 30 85\n",
      "203 24 1.3 24 30 85\n",
      "204 36 1.3 36 30 85\n",
      "205 4 1.4 4 30 85\n",
      "206 8 1.4 8 30 85\n",
      "207 12 1.4 12 30 85\n",
      "208 24 1.4 24 30 85\n",
      "209 36 1.4 36 30 85\n",
      "210 4 1.5 4 30 85\n",
      "211 8 1.5 8 30 85\n",
      "212 12 1.5 12 30 85\n",
      "213 24 1.5 24 30 85\n",
      "214 36 1.5 36 30 85\n",
      "215 4 1.6 4 30 85\n",
      "216 8 1.6 8 30 85\n",
      "217 12 1.6 12 30 85\n",
      "218 24 1.6 24 30 85\n",
      "219 36 1.6 36 30 85\n",
      "220 4 1.3 4 30 90\n",
      "221 8 1.3 8 30 90\n",
      "222 12 1.3 12 30 90\n",
      "223 24 1.3 24 30 90\n",
      "224 36 1.3 36 30 90\n",
      "225 4 1.4 4 30 90\n",
      "226 8 1.4 8 30 90\n",
      "227 12 1.4 12 30 90\n",
      "228 24 1.4 24 30 90\n",
      "229 36 1.4 36 30 90\n",
      "230 4 1.5 4 30 90\n",
      "231 8 1.5 8 30 90\n",
      "232 12 1.5 12 30 90\n",
      "233 24 1.5 24 30 90\n",
      "234 36 1.5 36 30 90\n",
      "235 4 1.6 4 30 90\n",
      "236 8 1.6 8 30 90\n",
      "237 12 1.6 12 30 90\n",
      "238 24 1.6 24 30 90\n",
      "239 36 1.6 36 30 90\n",
      "240 4 1.3 4 35 75\n",
      "241 8 1.3 8 35 75\n",
      "242 12 1.3 12 35 75\n",
      "243 24 1.3 24 35 75\n",
      "244 36 1.3 36 35 75\n",
      "245 4 1.4 4 35 75\n",
      "246 8 1.4 8 35 75\n",
      "247 12 1.4 12 35 75\n",
      "248 24 1.4 24 35 75\n",
      "249 36 1.4 36 35 75\n",
      "250 4 1.5 4 35 75\n",
      "251 8 1.5 8 35 75\n",
      "252 12 1.5 12 35 75\n",
      "253 24 1.5 24 35 75\n",
      "254 36 1.5 36 35 75\n",
      "255 4 1.6 4 35 75\n",
      "256 8 1.6 8 35 75\n",
      "257 12 1.6 12 35 75\n",
      "258 24 1.6 24 35 75\n",
      "259 36 1.6 36 35 75\n",
      "260 4 1.3 4 35 80\n",
      "261 8 1.3 8 35 80\n",
      "262 12 1.3 12 35 80\n",
      "263 24 1.3 24 35 80\n",
      "264 36 1.3 36 35 80\n",
      "265 4 1.4 4 35 80\n",
      "266 8 1.4 8 35 80\n",
      "267 12 1.4 12 35 80\n",
      "268 24 1.4 24 35 80\n",
      "269 36 1.4 36 35 80\n",
      "270 4 1.5 4 35 80\n",
      "271 8 1.5 8 35 80\n",
      "272 12 1.5 12 35 80\n",
      "273 24 1.5 24 35 80\n",
      "274 36 1.5 36 35 80\n",
      "275 4 1.6 4 35 80\n",
      "276 8 1.6 8 35 80\n",
      "277 12 1.6 12 35 80\n",
      "278 24 1.6 24 35 80\n",
      "279 36 1.6 36 35 80\n",
      "280 4 1.3 4 35 85\n",
      "281 8 1.3 8 35 85\n",
      "282 12 1.3 12 35 85\n",
      "283 24 1.3 24 35 85\n",
      "284 36 1.3 36 35 85\n",
      "285 4 1.4 4 35 85\n",
      "286 8 1.4 8 35 85\n",
      "287 12 1.4 12 35 85\n",
      "288 24 1.4 24 35 85\n",
      "289 36 1.4 36 35 85\n",
      "290 4 1.5 4 35 85\n",
      "291 8 1.5 8 35 85\n",
      "292 12 1.5 12 35 85\n",
      "293 24 1.5 24 35 85\n",
      "294 36 1.5 36 35 85\n",
      "295 4 1.6 4 35 85\n",
      "296 8 1.6 8 35 85\n",
      "297 12 1.6 12 35 85\n",
      "298 24 1.6 24 35 85\n",
      "299 36 1.6 36 35 85\n",
      "300 4 1.3 4 35 90\n",
      "301 8 1.3 8 35 90\n",
      "302 12 1.3 12 35 90\n",
      "303 24 1.3 24 35 90\n",
      "304 36 1.3 36 35 90\n",
      "305 4 1.4 4 35 90\n",
      "306 8 1.4 8 35 90\n",
      "307 12 1.4 12 35 90\n",
      "308 24 1.4 24 35 90\n",
      "309 36 1.4 36 35 90\n",
      "310 4 1.5 4 35 90\n",
      "311 8 1.5 8 35 90\n",
      "312 12 1.5 12 35 90\n",
      "313 24 1.5 24 35 90\n",
      "314 36 1.5 36 35 90\n",
      "315 4 1.6 4 35 90\n",
      "316 8 1.6 8 35 90\n",
      "317 12 1.6 12 35 90\n",
      "318 24 1.6 24 35 90\n",
      "319 36 1.6 36 35 90\n",
      "320 4 1.3 4 40 75\n",
      "321 8 1.3 8 40 75\n",
      "322 12 1.3 12 40 75\n",
      "323 24 1.3 24 40 75\n",
      "324 36 1.3 36 40 75\n",
      "325 4 1.4 4 40 75\n",
      "326 8 1.4 8 40 75\n",
      "327 12 1.4 12 40 75\n",
      "328 24 1.4 24 40 75\n",
      "329 36 1.4 36 40 75\n",
      "330 4 1.5 4 40 75\n",
      "331 8 1.5 8 40 75\n",
      "332 12 1.5 12 40 75\n",
      "333 24 1.5 24 40 75\n",
      "334 36 1.5 36 40 75\n",
      "335 4 1.6 4 40 75\n",
      "336 8 1.6 8 40 75\n",
      "337 12 1.6 12 40 75\n",
      "338 24 1.6 24 40 75\n",
      "339 36 1.6 36 40 75\n",
      "340 4 1.3 4 40 80\n",
      "341 8 1.3 8 40 80\n",
      "342 12 1.3 12 40 80\n",
      "343 24 1.3 24 40 80\n",
      "344 36 1.3 36 40 80\n",
      "345 4 1.4 4 40 80\n",
      "346 8 1.4 8 40 80\n",
      "347 12 1.4 12 40 80\n",
      "348 24 1.4 24 40 80\n",
      "349 36 1.4 36 40 80\n",
      "350 4 1.5 4 40 80\n",
      "351 8 1.5 8 40 80\n",
      "352 12 1.5 12 40 80\n",
      "353 24 1.5 24 40 80\n",
      "354 36 1.5 36 40 80\n",
      "355 4 1.6 4 40 80\n",
      "356 8 1.6 8 40 80\n",
      "357 12 1.6 12 40 80\n",
      "358 24 1.6 24 40 80\n",
      "359 36 1.6 36 40 80\n",
      "360 4 1.3 4 40 85\n",
      "361 8 1.3 8 40 85\n",
      "362 12 1.3 12 40 85\n",
      "363 24 1.3 24 40 85\n",
      "364 36 1.3 36 40 85\n",
      "365 4 1.4 4 40 85\n",
      "366 8 1.4 8 40 85\n",
      "367 12 1.4 12 40 85\n",
      "368 24 1.4 24 40 85\n",
      "369 36 1.4 36 40 85\n",
      "370 4 1.5 4 40 85\n",
      "371 8 1.5 8 40 85\n",
      "372 12 1.5 12 40 85\n",
      "373 24 1.5 24 40 85\n",
      "374 36 1.5 36 40 85\n",
      "375 4 1.6 4 40 85\n",
      "376 8 1.6 8 40 85\n",
      "377 12 1.6 12 40 85\n",
      "378 24 1.6 24 40 85\n",
      "379 36 1.6 36 40 85\n",
      "380 4 1.3 4 40 90\n",
      "381 8 1.3 8 40 90\n",
      "382 12 1.3 12 40 90\n",
      "383 24 1.3 24 40 90\n",
      "384 36 1.3 36 40 90\n",
      "385 4 1.4 4 40 90\n",
      "386 8 1.4 8 40 90\n",
      "387 12 1.4 12 40 90\n",
      "388 24 1.4 24 40 90\n",
      "389 36 1.4 36 40 90\n",
      "390 4 1.5 4 40 90\n",
      "391 8 1.5 8 40 90\n",
      "392 12 1.5 12 40 90\n",
      "393 24 1.5 24 40 90\n",
      "394 36 1.5 36 40 90\n",
      "395 4 1.6 4 40 90\n",
      "396 8 1.6 8 40 90\n",
      "397 12 1.6 12 40 90\n",
      "398 24 1.6 24 40 90\n",
      "399 36 1.6 36 40 90\n"
     ]
    }
   ],
   "source": [
    "for idx, scenario in enumerate(list(ParameterGrid(scenario_grid))):\n",
    "    bb_timeperiod = scenario['timeperiod']\n",
    "    bb_stddev = scenario['stddev']\n",
    "    rsi_timeperiod = scenario['timeperiod']\n",
    "    rsi_buy = scenario['buy']\n",
    "    rsi_sell = scenario['sell']\n",
    "    \n",
    "    print(idx, bb_timeperiod, bb_stddev, rsi_timeperiod, rsi_buy, rsi_sell)"
   ]
  },
  {
   "cell_type": "code",
   "execution_count": 14,
   "metadata": {},
   "outputs": [
    {
     "data": {
      "text/html": [
       "<div>\n",
       "<style scoped>\n",
       "    .dataframe tbody tr th:only-of-type {\n",
       "        vertical-align: middle;\n",
       "    }\n",
       "\n",
       "    .dataframe tbody tr th {\n",
       "        vertical-align: top;\n",
       "    }\n",
       "\n",
       "    .dataframe thead th {\n",
       "        text-align: right;\n",
       "    }\n",
       "</style>\n",
       "<table border=\"1\" class=\"dataframe\">\n",
       "  <thead>\n",
       "    <tr style=\"text-align: right;\">\n",
       "      <th></th>\n",
       "      <th>Summary</th>\n",
       "      <th>Trade</th>\n",
       "      <th>Buy&amp;Hold</th>\n",
       "    </tr>\n",
       "  </thead>\n",
       "  <tbody>\n",
       "    <tr>\n",
       "      <th>0</th>\n",
       "      <td>Return</td>\n",
       "      <td>2.00</td>\n",
       "      <td>3.0</td>\n",
       "    </tr>\n",
       "    <tr>\n",
       "      <th>1</th>\n",
       "      <td>Std Dev</td>\n",
       "      <td>0.15</td>\n",
       "      <td>0.2</td>\n",
       "    </tr>\n",
       "    <tr>\n",
       "      <th>2</th>\n",
       "      <td>Sharpe (Rf=0%)</td>\n",
       "      <td>1.20</td>\n",
       "      <td>2.0</td>\n",
       "    </tr>\n",
       "  </tbody>\n",
       "</table>\n",
       "</div>"
      ],
      "text/plain": [
       "          Summary  Trade  Buy&Hold\n",
       "0          Return   2.00       3.0\n",
       "1         Std Dev   0.15       0.2\n",
       "2  Sharpe (Rf=0%)   1.20       2.0"
      ]
     },
     "execution_count": 14,
     "metadata": {},
     "output_type": "execute_result"
    }
   ],
   "source": [
    "summary_df = pd.DataFrame(\n",
    "    {'Summary':['Return','Std Dev','Sharpe (Rf=0%)'],'Trade':[2.0, 0.15, 1.2], 'Buy&Hold':[3.0, 0.20, 2.0]})\n",
    "summary_df = summary_df[['Summary','Trade','Buy&Hold']]\n",
    "summary_df"
   ]
  },
  {
   "cell_type": "code",
   "execution_count": 24,
   "metadata": {},
   "outputs": [
    {
     "name": "stdout",
     "output_type": "stream",
     "text": [
      "   return  scenario  sharpe  stddev  strategy\n",
      "0     2.0         0     1.2    0.15     trade\n",
      "1     3.0         0     1.3    0.16  buy&hold \n",
      "\n",
      "\n",
      "   return  scenario  sharpe  stddev  strategy\n",
      "2     1.0         1     0.2    0.10  buy&hold\n",
      "3     1.1         1     0.3    0.05  buy&hold \n",
      "\n",
      "\n"
     ]
    }
   ],
   "source": [
    "results = pd.DataFrame([{'scenario':0, 'strategy':'trade', 'return':2.0, 'stddev':0.15, 'sharpe':1.2}, \n",
    "                        {'scenario':0, 'strategy':'buy&hold', 'return':3.0, 'stddev':0.16, 'sharpe':1.3},\n",
    "                        {'scenario':1, 'strategy':'buy&hold', 'return':1.0, 'stddev':0.10, 'sharpe':0.2},\n",
    "                        {'scenario':1, 'strategy':'buy&hold', 'return':1.1, 'stddev':0.05, 'sharpe':0.3}])\n",
    "grouped = results.groupby('scenario')\n",
    "for key, item in grouped:\n",
    "    print(grouped.get_group(key), \"\\n\\n\")"
   ]
  },
  {
   "cell_type": "code",
   "execution_count": 32,
   "metadata": {},
   "outputs": [
    {
     "data": {
      "text/html": [
       "<div>\n",
       "<style scoped>\n",
       "    .dataframe tbody tr th:only-of-type {\n",
       "        vertical-align: middle;\n",
       "    }\n",
       "\n",
       "    .dataframe tbody tr th {\n",
       "        vertical-align: top;\n",
       "    }\n",
       "\n",
       "    .dataframe thead th {\n",
       "        text-align: right;\n",
       "    }\n",
       "</style>\n",
       "<table border=\"1\" class=\"dataframe\">\n",
       "  <thead>\n",
       "    <tr style=\"text-align: right;\">\n",
       "      <th></th>\n",
       "      <th>return</th>\n",
       "      <th>scenario</th>\n",
       "      <th>sharpe</th>\n",
       "      <th>stddev</th>\n",
       "      <th>strategy</th>\n",
       "    </tr>\n",
       "  </thead>\n",
       "  <tbody>\n",
       "    <tr>\n",
       "      <th>0</th>\n",
       "      <td>2.0</td>\n",
       "      <td>0</td>\n",
       "      <td>1.2</td>\n",
       "      <td>0.15</td>\n",
       "      <td>trade</td>\n",
       "    </tr>\n",
       "    <tr>\n",
       "      <th>1</th>\n",
       "      <td>3.0</td>\n",
       "      <td>0</td>\n",
       "      <td>1.3</td>\n",
       "      <td>0.16</td>\n",
       "      <td>buy&amp;hold</td>\n",
       "    </tr>\n",
       "    <tr>\n",
       "      <th>2</th>\n",
       "      <td>1.0</td>\n",
       "      <td>1</td>\n",
       "      <td>0.2</td>\n",
       "      <td>0.10</td>\n",
       "      <td>buy&amp;hold</td>\n",
       "    </tr>\n",
       "    <tr>\n",
       "      <th>3</th>\n",
       "      <td>1.1</td>\n",
       "      <td>1</td>\n",
       "      <td>0.3</td>\n",
       "      <td>0.05</td>\n",
       "      <td>buy&amp;hold</td>\n",
       "    </tr>\n",
       "  </tbody>\n",
       "</table>\n",
       "</div>"
      ],
      "text/plain": [
       "   return  scenario  sharpe  stddev  strategy\n",
       "0     2.0         0     1.2    0.15     trade\n",
       "1     3.0         0     1.3    0.16  buy&hold\n",
       "2     1.0         1     0.2    0.10  buy&hold\n",
       "3     1.1         1     0.3    0.05  buy&hold"
      ]
     },
     "execution_count": 32,
     "metadata": {},
     "output_type": "execute_result"
    }
   ],
   "source": [
    "results = []\n",
    "results.extend([{'scenario':0, 'strategy':'trade', 'return':2.0, 'stddev':0.15, 'sharpe':1.2}, \n",
    "                {'scenario':0, 'strategy':'buy&hold', 'return':3.0, 'stddev':0.16, 'sharpe':1.3}])\n",
    "results.extend([{'scenario':1, 'strategy':'buy&hold', 'return':1.0, 'stddev':0.10, 'sharpe':0.2},\n",
    "                {'scenario':1, 'strategy':'buy&hold', 'return':1.1, 'stddev':0.05, 'sharpe':0.3}])\n",
    "results_df = pd.DataFrame(results)\n",
    "results_df"
   ]
  },
  {
   "cell_type": "code",
   "execution_count": 33,
   "metadata": {},
   "outputs": [
    {
     "name": "stdout",
     "output_type": "stream",
     "text": [
      "   return  scenario  sharpe  stddev  strategy\n",
      "0     2.0         0     1.2    0.15     trade\n",
      "1     3.0         0     1.3    0.16  buy&hold \n",
      "\n",
      "\n",
      "   return  scenario  sharpe  stddev  strategy\n",
      "2     1.0         1     0.2    0.10  buy&hold\n",
      "3     1.1         1     0.3    0.05  buy&hold \n",
      "\n",
      "\n"
     ]
    }
   ],
   "source": [
    "grouped = results_df.groupby('scenario')\n",
    "for key, item in grouped:\n",
    "    print(grouped.get_group(key), \"\\n\\n\")"
   ]
  },
  {
   "cell_type": "code",
   "execution_count": 31,
   "metadata": {},
   "outputs": [
    {
     "data": {
      "text/plain": [
       "array([ {'scenario': 0, 'strategy': 'trade', 'return': 2.0, 'stddev': 0.15, 'sharpe': 1.2},\n",
       "       {'scenario': 0, 'strategy': 'buy&hold', 'return': 3.0, 'stddev': 0.16, 'sharpe': 1.3}], dtype=object)"
      ]
     },
     "execution_count": 31,
     "metadata": {},
     "output_type": "execute_result"
    }
   ],
   "source": [
    "r = np.array([{'scenario':0, 'strategy':'trade', 'return':2.0, 'stddev':0.15, 'sharpe':1.2}, \n",
    " {'scenario':0, 'strategy':'buy&hold', 'return':3.0, 'stddev':0.16, 'sharpe':1.3}])\n",
    "r\n",
    "r.flatten()"
   ]
  },
  {
   "cell_type": "code",
   "execution_count": null,
   "metadata": {
    "collapsed": true
   },
   "outputs": [],
   "source": []
  }
 ],
 "metadata": {
  "kernelspec": {
   "display_name": "Python 3",
   "language": "python",
   "name": "python3"
  },
  "language_info": {
   "codemirror_mode": {
    "name": "ipython",
    "version": 3
   },
   "file_extension": ".py",
   "mimetype": "text/x-python",
   "name": "python",
   "nbconvert_exporter": "python",
   "pygments_lexer": "ipython3",
   "version": "3.6.1"
  }
 },
 "nbformat": 4,
 "nbformat_minor": 2
}
